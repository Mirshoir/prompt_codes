{
  "nbformat": 4,
  "nbformat_minor": 0,
  "metadata": {
    "colab": {
      "private_outputs": true,
      "provenance": []
    },
    "kernelspec": {
      "name": "python3",
      "display_name": "Python 3"
    },
    "language_info": {
      "name": "python"
    }
  },
  "cells": [
    {
      "cell_type": "code",
      "execution_count": null,
      "metadata": {
        "id": "5OLax-5X8m7C"
      },
      "outputs": [],
      "source": [
        "%%capture\n",
        "!pip install openai\n",
        "!pip install pandas\n",
        "!pip install python-dotenv"
      ]
    },
    {
      "cell_type": "code",
      "source": [
        "import openai\n",
        "import os\n",
        "import json\n",
        "from dotenv import load_dotenv\n",
        "load_dotenv()"
      ],
      "metadata": {
        "id": "GkKdoFY282U6"
      },
      "execution_count": null,
      "outputs": []
    },
    {
      "cell_type": "code",
      "source": [
        "TOGETHER_API_KEY = os.environ.get(\"TOGETHER_API_KEY\")\n",
        "import openai\n",
        "\n",
        "client = openai.OpenAI(\n",
        "    api_key=\"7336cfe688822df50bfa05f18fe91b4fc4582587d53e17431bdef53ce2af4900\",\n",
        "    base_url=\"https://api.together.xyz/v1\",\n",
        ")"
      ],
      "metadata": {
        "id": "pRW6zY-H9tnb"
      },
      "execution_count": null,
      "outputs": []
    },
    {
      "cell_type": "code",
      "source": [
        "def get_code_completion(messeges,max_tokens=512,\n",
        "                        model=\"codellama/CodeLlama-70b-Instruct-hf\"):\n",
        "  chat_completion= client.chat.completions.create(\n",
        "    messeges=messeges,\n",
        "    model=model,\n",
        "    max_tokens=max_tokens,\n",
        "    stop=[\n",
        "        \"<step>\"\n",
        "    ],\n",
        "    frequency_penalty=1,\n",
        "    presence_penalty=1,\n",
        "    top_p= 0.7,\n",
        "    n=10,\n",
        "    temperature= 0.7,\n",
        "\n",
        "\n",
        "  )\n",
        "  return chat_completion"
      ],
      "metadata": {
        "id": "Rlq27O2zAEyu"
      },
      "execution_count": null,
      "outputs": []
    },
    {
      "cell_type": "code",
      "source": [
        "messages = [\n",
        "      {\n",
        "            \"role\": \"system\",\n",
        "            \"content\": \"You are an expert programmer that helps to write Python code based on the user request, with concise explanations. Don't be too verbose.\",\n",
        "      },\n",
        "      {\n",
        "            \"role\": \"user\",\n",
        "            \"content\": \"Write a python function to generate the nth fibonacci number.\",\n",
        "      }\n",
        "]\n",
        "\n",
        "chat_completion = get_code_completion(messages)\n",
        "\n",
        "print(chat_completion.choices[0].message.content)"
      ],
      "metadata": {
        "id": "TxwlJWEQBCVY"
      },
      "execution_count": null,
      "outputs": []
    },
    {
      "cell_type": "code",
      "source": [
        "#Debugging\n",
        "\n",
        "messages = [\n",
        "    {\n",
        "        \"role\": \"system\",\n",
        "        \"content\": \"You are an expert programmer that helps to review Python code for bugs.\"\n",
        "    },\n",
        "    {\n",
        "    \"role\": \"user\",\n",
        "    \"content\": \"\"\"Where is the bug in this code?\n",
        "\n",
        "    def fib(n):\n",
        "        if n <= 0:\n",
        "            return n\n",
        "        else:\n",
        "            return fib(n-1) + fib(n-2)\"\"\"\n",
        "    }\n",
        "]\n",
        "\n",
        "chat_completion = get_code_completion(messages)\n",
        "\n",
        "print(chat_completion.choices[0].message.content)"
      ],
      "metadata": {
        "id": "cZ58RNNiI34G"
      },
      "execution_count": null,
      "outputs": []
    }
  ]
}