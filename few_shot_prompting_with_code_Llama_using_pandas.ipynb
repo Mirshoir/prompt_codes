{
  "nbformat": 4,
  "nbformat_minor": 0,
  "metadata": {
    "colab": {
      "private_outputs": true,
      "provenance": []
    },
    "kernelspec": {
      "name": "python3",
      "display_name": "Python 3"
    },
    "language_info": {
      "name": "python"
    }
  },
  "cells": [
    {
      "cell_type": "code",
      "execution_count": null,
      "metadata": {
        "id": "lYX7WGhFNrZ7"
      },
      "outputs": [],
      "source": [
        "import pandas as pd"
      ]
    },
    {
      "cell_type": "code",
      "source": [
        "data={\n",
        "    \"Name\": [\"Alice Johnson\", \"Bob Smith\", \"Carlos Diaz\", \"Diana Chen\", \"Ethan Clark\",\n",
        "             \"Fiona O'Reilly\", \"George Kumar\", \"Hannah Ali\", \"Ivan Petrov\", \"Julia Müller\"],\n",
        "    \"Nationality\": [\"USA\", \"USA\", \"Mexico\", \"China\", \"USA\", \"Ireland\", \"India\", \"Egypt\", \"Russia\", \"Germany\"],\n",
        "    \"Overall Grade\": [\"A\", \"B\", \"B+\", \"A-\", \"C\", \"A\", \"B-\", \"A-\", \"C+\", \"B\"],\n",
        "    \"Age\": [20, 21, 22, 20, 19, 21, 23, 20, 22, 21],\n",
        "    \"Major\": [\"Computer Science\", \"Biology\", \"Mathematics\", \"Physics\", \"Economics\",\n",
        "              \"Engineering\", \"Medicine\", \"Law\", \"History\", \"Art\"],\n",
        "    \"GPA\": [3.8, 3.2, 3.5, 3.7, 2.9, 3.9, 3.1, 3.6, 2.8, 3.4]\n",
        "\n",
        "}\n",
        "students_df = pd.DataFrame(data)"
      ],
      "metadata": {
        "id": "J1MMqYImN7cl"
      },
      "execution_count": null,
      "outputs": []
    },
    {
      "cell_type": "code",
      "source": [
        "FEW_SHOT_PROMPT_1 = '''\n",
        "You are given a Pandas dataframe named students_df:\n",
        "- Columns: ['Name', 'Nationality', 'Overall Grade', 'Age', 'Major', 'GPA']\n",
        "User's Question: How to find the youngest student?\n",
        "\n",
        "'''\n",
        "\n",
        "FEW_SHOT_ANSWER_1 = \"\"\"\n",
        "result = students_df[students_df['Age'] == students_df['Age'].min()]\n",
        "\n",
        "\"\"\"\n",
        "\n",
        "FEW_SHOT_PROMPT_2 = \"\"\"\n",
        "You are given a Pandas dataframe named students_df:\n",
        "- Columns: ['Name', 'Nationality', 'Overall Grade', 'Age', 'Major', 'GPA']\n",
        "User's Question: What are the number of unique majors?\n",
        "\"\"\"\n",
        "FEW_SHOT_ANSWER_2 = \"\"\"\n",
        "result = students_df['Major'].nunique()\n",
        "\"\"\"\n",
        "\n",
        "FEW_SHOT_PROMPT_USER = \"\"\"\n",
        "You are given a Pandas dataframe named students_df:\n",
        "- Columns: ['Name', 'Nationality', 'Overall Grade', 'Age', 'Major', 'GPA']\n",
        "User's Question: How to find the students with GPAs between 3.5 and 3.8?\n",
        "\"\"\""
      ],
      "metadata": {
        "id": "IpZUYXHmPRvc"
      },
      "execution_count": null,
      "outputs": []
    },
    {
      "cell_type": "code",
      "source": [
        "messages = [\n",
        "    {\n",
        "        \"role\": \"system\",\n",
        "        \"content\": \"Write Pandas code to get the answer to the user's question. Store the answer in a variable named `result`. Don't include imports. Please wrap your code answer using ```.\"\n",
        "    },\n",
        "    {\n",
        "        \"role\": \"user\",\n",
        "        \"content\": FEW_SHOT_PROMPT_1\n",
        "    },\n",
        "    {\n",
        "        \"role\": \"assistant\",\n",
        "        \"content\": FEW_SHOT_ANSWER_1\n",
        "    },\n",
        "    {\n",
        "        \"role\": \"user\",\n",
        "        \"content\": FEW_SHOT_PROMPT_2\n",
        "    },\n",
        "    {\n",
        "        \"role\": \"assistant\",\n",
        "        \"content\": FEW_SHOT_ANSWER_2\n",
        "    },\n",
        "    {\n",
        "        \"role\": \"user\",\n",
        "        \"content\": FEW_SHOT_PROMPT_USER\n",
        "    }\n",
        "]\n",
        "\n",
        "chat_completion = get_code_completion(messages)\n",
        "\n",
        "print(chat_completion.choices[0].message.content)"
      ],
      "metadata": {
        "id": "ePLuFkFVQcG-"
      },
      "execution_count": null,
      "outputs": []
    }
  ]
}