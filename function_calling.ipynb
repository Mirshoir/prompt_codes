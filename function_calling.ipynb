{
  "nbformat": 4,
  "nbformat_minor": 0,
  "metadata": {
    "colab": {
      "private_outputs": true,
      "provenance": []
    },
    "kernelspec": {
      "name": "python3",
      "display_name": "Python 3"
    },
    "language_info": {
      "name": "python"
    }
  },
  "cells": [
    {
      "cell_type": "code",
      "source": [
        "from google.colab import drive\n",
        "drive.mount('/content/drive')"
      ],
      "metadata": {
        "id": "DRSAK93ORMMV"
      },
      "execution_count": null,
      "outputs": []
    },
    {
      "cell_type": "code",
      "source": [
        "!pip install openai\n",
        "!pip install python-dotenv\n"
      ],
      "metadata": {
        "collapsed": true,
        "id": "4oFwk684RxvN"
      },
      "execution_count": null,
      "outputs": []
    },
    {
      "cell_type": "code",
      "execution_count": null,
      "metadata": {
        "id": "GfvCX3e1P83H"
      },
      "outputs": [],
      "source": [
        "import os\n",
        "import openai\n",
        "import json\n",
        "from dotenv import load_dotenv\n",
        "\n",
        "\n",
        "load_dotenv()\n",
        "\n",
        "openai.api_key = os.getenv('OPENAI_API_KEY')\n",
        "\n"
      ]
    },
    {
      "cell_type": "code",
      "source": [
        "#define a get completion Function"
      ],
      "metadata": {
        "id": "uH06A_q3UFgz"
      },
      "execution_count": null,
      "outputs": []
    },
    {
      "cell_type": "code",
      "source": [
        "def get_completion(messeges, model=\"gpt-3.5-turbo-1106\", temperature=0,max_tokens=300, tools=None, tool_choice=None):\n",
        "  response = openai.chat.completions.create(\n",
        "      model=model,\n",
        "      messages=messages,\n",
        "      temperature=temperature,\n",
        "      max_tokens=max_tokens,\n",
        "      tools=tools,\n",
        "      tool_choice=tool_choice\n",
        "  )\n",
        "  return response.choices[0].message\n"
      ],
      "metadata": {
        "id": "CsxsIZTpURGj"
      },
      "execution_count": null,
      "outputs": []
    },
    {
      "cell_type": "code",
      "source": [
        "#Define dummy function"
      ],
      "metadata": {
        "id": "oUxuUrjhW8eH"
      },
      "execution_count": null,
      "outputs": []
    },
    {
      "cell_type": "code",
      "source": [
        "def get_current_weather(location, unit=\"fahrenheit\"):\n",
        "  \"\"\"Get the current weather in a given location\"\"\"\n",
        "\n",
        "  weather ={\n",
        "      \"Location\": location,\n",
        "      \"temperature\": \"50\",\n",
        "      \"unit\": unit\n",
        "  }\n",
        "\n",
        "  return json.dumbs(weather)"
      ],
      "metadata": {
        "id": "Iear7eeFXFCO"
      },
      "execution_count": null,
      "outputs": []
    },
    {
      "cell_type": "code",
      "source": [
        "#define functions"
      ],
      "metadata": {
        "id": "8TqrQ5FMX8j_"
      },
      "execution_count": null,
      "outputs": []
    },
    {
      "cell_type": "code",
      "source": [
        "{\n",
        "  \"type\": \"function\",\n",
        "  \"name\": \"get_current_weather\",\n",
        "  \"description\": \"Get the current weather in a given location\",\n",
        "  \"parameters\": {\n",
        "    \"type\": \"object\",\n",
        "    \"properties\": {\n",
        "      \"location\": {\n",
        "        \"type\": \"string\",\n",
        "        \"description\": \"The city and state, e.g., Tashkent, Uzbekistan\"\n",
        "      },\n",
        "      \"unit\": {\n",
        "        \"type\": \"string\",\n",
        "        \"enum\": [\"celsius\", \"fahrenheit\"],\n",
        "        \"description\": \"The unit of temperature\"\n",
        "      }\n",
        "    },\n",
        "    \"required\": [\"location\"]\n",
        "  }\n",
        "}\n"
      ],
      "metadata": {
        "id": "WOvxaC3TYF2i"
      },
      "execution_count": null,
      "outputs": []
    },
    {
      "cell_type": "code",
      "source": [
        "messages = [\n",
        "    {\n",
        "        \"role\": \"user\",\n",
        "        \"content\": \"What is the weather like in Tashkent?\"\n",
        "    }\n",
        "]"
      ],
      "metadata": {
        "id": "rTgDZklKYN8i"
      },
      "execution_count": null,
      "outputs": []
    },
    {
      "cell_type": "code",
      "source": [
        "response = get_completion(messages, tools=tools)"
      ],
      "metadata": {
        "collapsed": true,
        "id": "YZOBxdhj3uUq"
      },
      "execution_count": null,
      "outputs": []
    },
    {
      "cell_type": "code",
      "source": [
        "ChatCompletionMessage(content=None, role='assistant',\n",
        "                      function_call=None, tool_calls=[ChatCompletionMessageToolCall(id='...',\n",
        "                      function=Function(arguments='{\"location\":\"Tashkent\",\"unit\":\"celsius\"}',\n",
        "                     name='get_current_weather'), type='function')])"
      ],
      "metadata": {
        "id": "U1PbTwnh7f5T"
      },
      "execution_count": null,
      "outputs": []
    },
    {
      "cell_type": "code",
      "source": [],
      "metadata": {
        "id": "5xC0W-H-8Vgj"
      },
      "execution_count": null,
      "outputs": []
    }
  ]
}